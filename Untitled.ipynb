{
 "cells": [
  {
   "cell_type": "code",
   "execution_count": 3,
   "metadata": {},
   "outputs": [],
   "source": [
    "import numpy as np\n",
    "import pandas as pd\n",
    "from sklearn import linear_model\n",
    "from sklearn.neighbors import KNeighborsClassifier\n",
    "import sklearn\n",
    "\n",
    "\n"
   ]
  },
  {
   "cell_type": "code",
   "execution_count": 4,
   "metadata": {},
   "outputs": [
    {
     "name": "stdout",
     "output_type": "stream",
     "text": [
      "0.8068427114147205\n",
      "-------------------------\n",
      "Coefficient: \n",
      " [ 0.17689682  0.9565184   0.03450427 -0.26811844 -0.20568872]\n",
      "Intercept: \n",
      " -1.4651694798755983\n",
      "-------------------------\n",
      "12.573065860434516 [11 13  2  0  2] 14\n",
      "11.525674305358486 [12 11 16  0  1] 11\n",
      "9.732302549232644 [10 10  2  0  1] 10\n",
      "8.600224205400483 [9 9 8 0 2] 9\n",
      "6.439945173270764 [8 7 0 0 1] 6\n",
      "7.97039644426787 [7 9 0 0 2] 8\n",
      "11.211748828826302 [11 12  4  1  3] 11\n",
      "12.85785096733779 [13 13  0  0  2] 12\n",
      "8.285310324834176 [8 9 4 0 2] 10\n",
      "7.099553234602499 [9 8 0 1 2] 0\n",
      "11.2405407249913 [10 12  4  1  2] 12\n",
      "15.085801652815345 [14 15  4  0  2] 15\n",
      "11.9314613385452 [12 12  6  0  2] 12\n",
      "10.944814162426542 [13 11  0  0  2] 10\n",
      "11.948476473953496 [14 11 18  0  1] 13\n",
      "11.645339354143891 [10 12  2  0  1] 12\n",
      "12.206158584430638 [12 12  8  0  1] 12\n",
      "12.584490598950385 [13 13  4  0  4] 12\n",
      "15.37058675971862 [16 15  2  0  2] 15\n",
      "10.34778892995303 [10 11 10  0  4] 11\n",
      "17.214615033784 [16 17  0  0  2] 17\n",
      "11.147464263204245 [12 11 11  0  2] 11\n",
      "6.790382849867521 [ 6  8 16  3  1] 8\n",
      "9.046227873268066 [10 10  0  0  4] 10\n",
      "8.462207143708747 [9 9 4 0 2] 10\n",
      "10.780208513736456 [13 11  3  1  2] 11\n",
      "10.621149298340432 [10 11  6  0  2] 11\n",
      "8.316427502531331 [ 7 10  2  1  4] 10\n",
      "15.193689940844049 [15 15  2  0  2] 16\n",
      "14.947784591123611 [14 15  0  0  2] 15\n",
      "9.309500380637635 [ 8 10  0  0  1] 11\n",
      "4.204580381771441 [ 5  5 12  0  2] 5\n",
      "16.11704095537477 [15 16  7  0  3] 15\n",
      "5.855729069186436 [5 8 0 3 2] 7\n",
      "3.699307570611915 [6 5 0 1 2] 0\n",
      "4.992952948872296 [6 6 2 0 2] 6\n",
      "9.950752880286117 [12 10 10  0  3] 12\n",
      "12.421935160488044 [14 12  4  0  1] 11\n",
      "12.62337035613322 [14 13  0  0  4] 14\n",
      "10.237226886928259 [ 9 11  0  0  2] 12\n"
     ]
    }
   ],
   "source": [
    "\n",
    "\n",
    "data = pd.read_csv(\"student-mat.csv\", sep=\";\")\n",
    "\n",
    "predict = \"G3\"\n",
    "\n",
    "data = data[[\"G1\", \"G2\", \"absences\",\"failures\", \"studytime\",\"G3\"]]\n",
    "\n",
    "\n",
    "x = np.array(data.drop([predict], 1))\n",
    "y =np.array(data[predict])\n",
    "x_train, x_test, y_train, y_test = sklearn.model_selection.train_test_split(x, y, test_size=0.1)\n",
    "\n",
    "\n",
    "\n",
    "\n",
    "\n",
    "  \n",
    "\n",
    "linear = linear_model.LinearRegression()\n",
    "\n",
    "linear.fit(x_train, y_train)\n",
    "acc = linear.score(x_test, y_test)\n",
    "#accurasy\n",
    "print(acc)\n",
    "\n",
    "  \n",
    "       \n",
    "\n",
    "\n",
    "\n",
    "\n",
    "\n",
    "print(\"-------------------------\")\n",
    "print('Coefficient: \\n', linear.coef_)\n",
    "print('Intercept: \\n', linear.intercept_)\n",
    "print(\"-------------------------\")\n",
    "\n",
    "predicted= linear.predict(x_test)\n",
    "for x in range(len(predicted)):\n",
    "    print(predicted[x], x_test[x], y_test[x])\n",
    "\n",
    "\n",
    "\n"
   ]
  },
  {
   "cell_type": "code",
   "execution_count": null,
   "metadata": {},
   "outputs": [],
   "source": []
  },
  {
   "cell_type": "code",
   "execution_count": null,
   "metadata": {},
   "outputs": [],
   "source": []
  },
  {
   "cell_type": "code",
   "execution_count": 9,
   "metadata": {},
   "outputs": [
    {
     "data": {
      "text/html": [
       "<div>\n",
       "<style scoped>\n",
       "    .dataframe tbody tr th:only-of-type {\n",
       "        vertical-align: middle;\n",
       "    }\n",
       "\n",
       "    .dataframe tbody tr th {\n",
       "        vertical-align: top;\n",
       "    }\n",
       "\n",
       "    .dataframe thead th {\n",
       "        text-align: right;\n",
       "    }\n",
       "</style>\n",
       "<table border=\"1\" class=\"dataframe\">\n",
       "  <thead>\n",
       "    <tr style=\"text-align: right;\">\n",
       "      <th></th>\n",
       "      <th>G1</th>\n",
       "      <th>G2</th>\n",
       "      <th>absences</th>\n",
       "      <th>failures</th>\n",
       "      <th>studytime</th>\n",
       "      <th>G3</th>\n",
       "    </tr>\n",
       "  </thead>\n",
       "  <tbody>\n",
       "    <tr>\n",
       "      <th>0</th>\n",
       "      <td>5</td>\n",
       "      <td>6</td>\n",
       "      <td>6</td>\n",
       "      <td>0</td>\n",
       "      <td>2</td>\n",
       "      <td>6</td>\n",
       "    </tr>\n",
       "    <tr>\n",
       "      <th>1</th>\n",
       "      <td>5</td>\n",
       "      <td>5</td>\n",
       "      <td>4</td>\n",
       "      <td>0</td>\n",
       "      <td>2</td>\n",
       "      <td>6</td>\n",
       "    </tr>\n",
       "    <tr>\n",
       "      <th>2</th>\n",
       "      <td>7</td>\n",
       "      <td>8</td>\n",
       "      <td>10</td>\n",
       "      <td>3</td>\n",
       "      <td>2</td>\n",
       "      <td>10</td>\n",
       "    </tr>\n",
       "    <tr>\n",
       "      <th>3</th>\n",
       "      <td>15</td>\n",
       "      <td>14</td>\n",
       "      <td>2</td>\n",
       "      <td>0</td>\n",
       "      <td>3</td>\n",
       "      <td>15</td>\n",
       "    </tr>\n",
       "    <tr>\n",
       "      <th>4</th>\n",
       "      <td>6</td>\n",
       "      <td>10</td>\n",
       "      <td>4</td>\n",
       "      <td>0</td>\n",
       "      <td>2</td>\n",
       "      <td>10</td>\n",
       "    </tr>\n",
       "  </tbody>\n",
       "</table>\n",
       "</div>"
      ],
      "text/plain": [
       "   G1  G2  absences  failures  studytime  G3\n",
       "0   5   6         6         0          2   6\n",
       "1   5   5         4         0          2   6\n",
       "2   7   8        10         3          2  10\n",
       "3  15  14         2         0          3  15\n",
       "4   6  10         4         0          2  10"
      ]
     },
     "execution_count": 9,
     "metadata": {},
     "output_type": "execute_result"
    }
   ],
   "source": [
    "data.head()"
   ]
  },
  {
   "cell_type": "code",
   "execution_count": null,
   "metadata": {},
   "outputs": [],
   "source": []
  },
  {
   "cell_type": "code",
   "execution_count": 7,
   "metadata": {},
   "outputs": [
    {
     "name": "stdout",
     "output_type": "stream",
     "text": [
      "0.35\n"
     ]
    }
   ],
   "source": [
    "knn=KNeighborsClassifier(n_neighbors=1)\n",
    "knn.fit(x_train,y_train)\n",
    "acc=knn.score(x_test,y_test)\n",
    "print(acc)"
   ]
  },
  {
   "cell_type": "code",
   "execution_count": 8,
   "metadata": {},
   "outputs": [
    {
     "name": "stdout",
     "output_type": "stream",
     "text": [
      "12.573065860434516 [11 13  2  0  2] 14\n",
      "11.525674305358486 [12 11 16  0  1] 11\n",
      "9.732302549232644 [10 10  2  0  1] 10\n",
      "8.600224205400483 [9 9 8 0 2] 9\n",
      "6.439945173270764 [8 7 0 0 1] 6\n",
      "7.97039644426787 [7 9 0 0 2] 8\n",
      "11.211748828826302 [11 12  4  1  3] 11\n",
      "12.85785096733779 [13 13  0  0  2] 12\n",
      "8.285310324834176 [8 9 4 0 2] 10\n",
      "7.099553234602499 [9 8 0 1 2] 0\n",
      "11.2405407249913 [10 12  4  1  2] 12\n",
      "15.085801652815345 [14 15  4  0  2] 15\n",
      "11.9314613385452 [12 12  6  0  2] 12\n",
      "10.944814162426542 [13 11  0  0  2] 10\n",
      "11.948476473953496 [14 11 18  0  1] 13\n",
      "11.645339354143891 [10 12  2  0  1] 12\n",
      "12.206158584430638 [12 12  8  0  1] 12\n",
      "12.584490598950385 [13 13  4  0  4] 12\n",
      "15.37058675971862 [16 15  2  0  2] 15\n",
      "10.34778892995303 [10 11 10  0  4] 11\n",
      "17.214615033784 [16 17  0  0  2] 17\n",
      "11.147464263204245 [12 11 11  0  2] 11\n",
      "6.790382849867521 [ 6  8 16  3  1] 8\n",
      "9.046227873268066 [10 10  0  0  4] 10\n",
      "8.462207143708747 [9 9 4 0 2] 10\n",
      "10.780208513736456 [13 11  3  1  2] 11\n",
      "10.621149298340432 [10 11  6  0  2] 11\n",
      "8.316427502531331 [ 7 10  2  1  4] 10\n",
      "15.193689940844049 [15 15  2  0  2] 16\n",
      "14.947784591123611 [14 15  0  0  2] 15\n",
      "9.309500380637635 [ 8 10  0  0  1] 11\n",
      "4.204580381771441 [ 5  5 12  0  2] 5\n",
      "16.11704095537477 [15 16  7  0  3] 15\n",
      "5.855729069186436 [5 8 0 3 2] 7\n",
      "3.699307570611915 [6 5 0 1 2] 0\n",
      "4.992952948872296 [6 6 2 0 2] 6\n",
      "9.950752880286117 [12 10 10  0  3] 12\n",
      "12.421935160488044 [14 12  4  0  1] 11\n",
      "12.62337035613322 [14 13  0  0  4] 14\n",
      "10.237226886928259 [ 9 11  0  0  2] 12\n"
     ]
    }
   ],
   "source": [
    "predictedknn= knn.predict(x_test)\n",
    "for x in range(len(predicted)):\n",
    "    print(predicted[x], x_test[x], y_test[x])\n"
   ]
  },
  {
   "cell_type": "code",
   "execution_count": null,
   "metadata": {},
   "outputs": [],
   "source": []
  },
  {
   "cell_type": "code",
   "execution_count": null,
   "metadata": {},
   "outputs": [],
   "source": []
  },
  {
   "cell_type": "code",
   "execution_count": null,
   "metadata": {},
   "outputs": [],
   "source": []
  },
  {
   "cell_type": "code",
   "execution_count": null,
   "metadata": {},
   "outputs": [],
   "source": []
  },
  {
   "cell_type": "code",
   "execution_count": null,
   "metadata": {},
   "outputs": [],
   "source": []
  },
  {
   "cell_type": "code",
   "execution_count": null,
   "metadata": {},
   "outputs": [],
   "source": []
  },
  {
   "cell_type": "code",
   "execution_count": null,
   "metadata": {},
   "outputs": [],
   "source": []
  },
  {
   "cell_type": "code",
   "execution_count": null,
   "metadata": {},
   "outputs": [],
   "source": []
  },
  {
   "cell_type": "code",
   "execution_count": null,
   "metadata": {},
   "outputs": [],
   "source": []
  },
  {
   "cell_type": "code",
   "execution_count": null,
   "metadata": {},
   "outputs": [],
   "source": []
  },
  {
   "cell_type": "code",
   "execution_count": null,
   "metadata": {},
   "outputs": [],
   "source": [
    "\n",
    "\n",
    "data = pd.read_csv(\"student-mat.csv\", sep=\";\")\n",
    "\n",
    "predict = \"G3\"\n",
    "\n",
    "data = data[[\"G1\", \"G2\", \"absences\",\"failures\", \"studytime\",\"G3\"]]\n",
    "x_train, x_test, y_train, y_test = sklearn.model_selection.train_test_split(x, y, test_size=0.1)\n",
    "\n",
    "x = np.array(data.drop([predict], 1))\n",
    "y =np.array(data[predict])\n",
    "\n",
    "\n",
    "\n",
    "\n",
    "\n",
    "\n",
    "from sklearn.tree import DecisionTreeClassifier\n",
    "dtree = DecisionTreeClassifier()\n",
    "dtree.fit(x_train,y_train)\n",
    "predictions = dtree.predict(x_test)\n",
    "acc=dtree.score(x_test,y_test)\n",
    "print(acc)\n",
    "\n",
    "\n",
    "\n",
    "predicted= dtree.predict(x_test)\n",
    "for x in range(len(predicted)):\n",
    "    print(predicted[x], x_test[x], y_test[x])"
   ]
  }
 ],
 "metadata": {
  "kernelspec": {
   "display_name": "Python 3",
   "language": "python",
   "name": "python3"
  },
  "language_info": {
   "codemirror_mode": {
    "name": "ipython",
    "version": 3
   },
   "file_extension": ".py",
   "mimetype": "text/x-python",
   "name": "python",
   "nbconvert_exporter": "python",
   "pygments_lexer": "ipython3",
   "version": "3.8.5"
  }
 },
 "nbformat": 4,
 "nbformat_minor": 4
}
